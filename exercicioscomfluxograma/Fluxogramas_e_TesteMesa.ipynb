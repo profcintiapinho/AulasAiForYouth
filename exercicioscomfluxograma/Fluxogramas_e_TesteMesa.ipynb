{
  "nbformat": 4,
  "nbformat_minor": 0,
  "metadata": {
    "colab": {
      "provenance": [],
      "authorship_tag": "ABX9TyPZBONHISm/l6DGkZKj4sLs",
      "include_colab_link": true
    },
    "kernelspec": {
      "name": "python3",
      "display_name": "Python 3"
    },
    "language_info": {
      "name": "python"
    }
  },
  "cells": [
    {
      "cell_type": "markdown",
      "metadata": {
        "id": "view-in-github",
        "colab_type": "text"
      },
      "source": [
        "<a href=\"https://colab.research.google.com/github/profcintiapinho/AulasAiForYouth/blob/main/exercicioscomfluxograma/Fluxogramas_e_TesteMesa.ipynb\" target=\"_parent\"><img src=\"https://colab.research.google.com/assets/colab-badge.svg\" alt=\"Open In Colab\"/></a>"
      ]
    },
    {
      "cell_type": "markdown",
      "source": [
        "# Media entre duas notas"
      ],
      "metadata": {
        "id": "75k4uwnRQGSp"
      }
    },
    {
      "cell_type": "code",
      "source": [
        "#entrada\n",
        "p1 = float(input(\"Digite a primeira nota, entre 0 e 10: \"))\n",
        "p2 = float(input(\"Digite a segunda nota, entre 0 e 10: \"))\n",
        "\n",
        "# processamento\n",
        "\n",
        "media = (p1+p2)/2\n",
        "\n",
        "#saida\n",
        "\n",
        "print(\"A Média entre as duas notas é:  \", media)"
      ],
      "metadata": {
        "colab": {
          "base_uri": "https://localhost:8080/"
        },
        "id": "DBE3r2oQQbku",
        "outputId": "acd71508-fccb-4955-cecc-eb9ea3fe2e0c"
      },
      "execution_count": null,
      "outputs": [
        {
          "output_type": "stream",
          "name": "stdout",
          "text": [
            "Digite a primeira nota, entre 0 e 104.2\n",
            "Digite a segunda nota, entre 0 e 109.6\n",
            "A Média entre as duas notas é:   6.9\n"
          ]
        }
      ]
    },
    {
      "cell_type": "code",
      "source": [],
      "metadata": {
        "id": "1Chb59idHFBB"
      },
      "execution_count": null,
      "outputs": []
    }
  ]
}